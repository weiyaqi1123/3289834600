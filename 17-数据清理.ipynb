{
 "cells": [
  {
   "cell_type": "code",
   "execution_count": 13,
   "metadata": {},
   "outputs": [],
   "source": [
    "import mytools\n",
    "import pandas as pd"
   ]
  },
  {
   "cell_type": "code",
   "execution_count": 14,
   "metadata": {},
   "outputs": [],
   "source": [
    "数据表 = mytools.读取spss数据文件(R'data\\identity.sav')"
   ]
  },
  {
   "cell_type": "code",
   "execution_count": 15,
   "metadata": {},
   "outputs": [
    {
     "name": "stdout",
     "output_type": "stream",
     "text": [
      "原始 DataFrame:\n",
      "-  ---  ---  ---  ---\n",
      "0    1    4    7    7\n",
      "1  nan  nan    8    8\n",
      "2    3  nan    9    9\n",
      "3  nan  nan  nan  nan\n",
      "-  ---  ---  ---  ---\n",
      "列出所有空白值：\n",
      "-  ---  ---  ---  ---\n",
      "1  nan  nan    8    8\n",
      "2    3  nan    9    9\n",
      "3  nan  nan  nan  nan\n",
      "-  ---  ---  ---  ---\n"
     ]
    }
   ],
   "source": [
    "import pandas as pd\n",
    "from tabulate import tabulate\n",
    "# 创建一个示例 DataFrame\n",
    "data = {\n",
    "    'Column1': [1, None, 3, None],\n",
    "    'Column2': [4, None, None, None],\n",
    "    'Column3': [7, 8, 9, None],\n",
    "    'Column4': [7, 8, 9, None]\n",
    "}\n",
    "df = pd.DataFrame(data)\n",
    "print(\"原始 DataFrame:\")\n",
    "print(tabulate(df))\n",
    "# 列出所有空白值\n",
    "print(\"列出所有空白值：\")\n",
    "print(tabulate(df[df.isnull().T.any()]))"
   ]
  },
  {
   "cell_type": "code",
   "execution_count": 16,
   "metadata": {},
   "outputs": [
    {
     "data": {
      "text/html": [
       "<div>\n",
       "<style scoped>\n",
       "    .dataframe tbody tr th:only-of-type {\n",
       "        vertical-align: middle;\n",
       "    }\n",
       "\n",
       "    .dataframe tbody tr th {\n",
       "        vertical-align: top;\n",
       "    }\n",
       "\n",
       "    .dataframe thead th {\n",
       "        text-align: right;\n",
       "    }\n",
       "</style>\n",
       "<table border=\"1\" class=\"dataframe\">\n",
       "  <thead>\n",
       "    <tr style=\"text-align: right;\">\n",
       "      <th></th>\n",
       "      <th>Column1</th>\n",
       "      <th>Column2</th>\n",
       "      <th>Column3</th>\n",
       "      <th>Column4</th>\n",
       "    </tr>\n",
       "  </thead>\n",
       "  <tbody>\n",
       "    <tr>\n",
       "      <th>1</th>\n",
       "      <td>NaN</td>\n",
       "      <td>NaN</td>\n",
       "      <td>8.0</td>\n",
       "      <td>8.0</td>\n",
       "    </tr>\n",
       "    <tr>\n",
       "      <th>2</th>\n",
       "      <td>3.0</td>\n",
       "      <td>NaN</td>\n",
       "      <td>9.0</td>\n",
       "      <td>9.0</td>\n",
       "    </tr>\n",
       "    <tr>\n",
       "      <th>3</th>\n",
       "      <td>NaN</td>\n",
       "      <td>NaN</td>\n",
       "      <td>NaN</td>\n",
       "      <td>NaN</td>\n",
       "    </tr>\n",
       "  </tbody>\n",
       "</table>\n",
       "</div>"
      ],
      "text/plain": [
       "   Column1  Column2  Column3  Column4\n",
       "1      NaN      NaN      8.0      8.0\n",
       "2      3.0      NaN      9.0      9.0\n",
       "3      NaN      NaN      NaN      NaN"
      ]
     },
     "execution_count": 16,
     "metadata": {},
     "output_type": "execute_result"
    }
   ],
   "source": [
    "df[df.isnull().T.any()]"
   ]
  },
  {
   "cell_type": "code",
   "execution_count": 17,
   "metadata": {},
   "outputs": [
    {
     "name": "stdout",
     "output_type": "stream",
     "text": [
      "\n",
      "处理后的 DataFrame:\n",
      "   Column1  Column2  Column3  Column4\n",
      "0      1.0      4.0      7.0      7.0\n",
      "1      NaN      NaN      8.0      8.0\n",
      "2      3.0      NaN      9.0      9.0\n"
     ]
    }
   ],
   "source": [
    "# 删除所有列都是空值的行\n",
    "df.dropna(how='all', inplace=True)\n",
    "df\n",
    "# 打印处理后的 DataFrame\n",
    "print(\"\\n处理后的 DataFrame:\")\n",
    "print(df)"
   ]
  },
  {
   "cell_type": "code",
   "execution_count": 18,
   "metadata": {},
   "outputs": [
    {
     "ename": "AttributeError",
     "evalue": "'tuple' object has no attribute 'dropna'",
     "output_type": "error",
     "traceback": [
      "\u001b[1;31m---------------------------------------------------------------------------\u001b[0m",
      "\u001b[1;31mAttributeError\u001b[0m                            Traceback (most recent call last)",
      "Cell \u001b[1;32mIn[18], line 2\u001b[0m\n\u001b[0;32m      1\u001b[0m \u001b[38;5;66;03m#查找空白值\u001b[39;00m\n\u001b[1;32m----> 2\u001b[0m \u001b[43m数据表\u001b[49m\u001b[38;5;241;43m.\u001b[39;49m\u001b[43mdropna\u001b[49m(how\u001b[38;5;241m=\u001b[39m\u001b[38;5;124m'\u001b[39m\u001b[38;5;124many\u001b[39m\u001b[38;5;124m'\u001b[39m, inplace\u001b[38;5;241m=\u001b[39m\u001b[38;5;28;01mTrue\u001b[39;00m)\n\u001b[0;32m      3\u001b[0m df\n",
      "\u001b[1;31mAttributeError\u001b[0m: 'tuple' object has no attribute 'dropna'"
     ]
    }
   ],
   "source": [
    "#查找空白值\n",
    "数据表.dropna(how='any', inplace=True)\n",
    "df"
   ]
  },
  {
   "cell_type": "code",
   "execution_count": null,
   "metadata": {},
   "outputs": [],
   "source": [
    "#删除空白值\n",
    "数据表.dropna(thresh=4,inplace=True)"
   ]
  },
  {
   "cell_type": "code",
   "execution_count": 20,
   "metadata": {},
   "outputs": [
    {
     "ename": "TypeError",
     "evalue": "tuple indices must be integers or slices, not str",
     "output_type": "error",
     "traceback": [
      "\u001b[1;31m---------------------------------------------------------------------------\u001b[0m",
      "\u001b[1;31mTypeError\u001b[0m                                 Traceback (most recent call last)",
      "Cell \u001b[1;32mIn[20], line 2\u001b[0m\n\u001b[0;32m      1\u001b[0m \u001b[38;5;66;03m#填充空白值\u001b[39;00m\n\u001b[1;32m----> 2\u001b[0m \u001b[43m数据表\u001b[49m\u001b[43m[\u001b[49m\u001b[38;5;124;43m'\u001b[39;49m\u001b[38;5;124;43m政治面貌\u001b[39;49m\u001b[38;5;124;43m'\u001b[39;49m\u001b[43m]\u001b[49m\u001b[38;5;241m.\u001b[39mfillna(\u001b[38;5;124m'\u001b[39m\u001b[38;5;124m群众\u001b[39m\u001b[38;5;124m'\u001b[39m,inplace\u001b[38;5;241m=\u001b[39m\u001b[38;5;28;01mTrue\u001b[39;00m)\n",
      "\u001b[1;31mTypeError\u001b[0m: tuple indices must be integers or slices, not str"
     ]
    }
   ],
   "source": [
    "#填充空白值\n",
    "数据表['政治面貌'].fillna('群众',inplace=True)"
   ]
  },
  {
   "cell_type": "markdown",
   "metadata": {},
   "source": [
    "import pandas as pd\n",
    "\n",
    "# 示例数据\n",
    "data = {'value': [10, 12, 12, 13, 12, 11, 10, 29, 30, 11, 10, 100]}\n",
    "df = pd.DataFrame(data)\n",
    "\n",
    "# 计算均值和标准差\n",
    "mean = df['value'].mean()\n",
    "std = df['value'].std()\n",
    "condition1 = (df['value'] < mean - 3 * std) | (df['value'] > mean + 3 * std)\n",
    "# 识别异常值\n",
    "outliers1 = df[condition1]\n",
    "print('使用标准差判断的异常值为：',outliers1)\n",
    "\n",
    "# 计算 IQR\n",
    "Q1 = df['value'].quantile(0.25)\n",
    "Q3 = df['value'].quantile(0.75)\n",
    "IQR = Q3 - Q1\n",
    "\n",
    "# 识别异常值\n",
    "outliers2 = df[(df['value'] < Q1 - 1.5 * IQR) | (df['value'] > Q3 + 1.5 * IQR)]\n",
    "print('使用IQR判断的异常值为：',outliers2)"
   ]
  }
 ],
 "metadata": {
  "kernelspec": {
   "display_name": "Python 3",
   "language": "python",
   "name": "python3"
  },
  "language_info": {
   "codemirror_mode": {
    "name": "ipython",
    "version": 3
   },
   "file_extension": ".py",
   "mimetype": "text/x-python",
   "name": "python",
   "nbconvert_exporter": "python",
   "pygments_lexer": "ipython3",
   "version": "3.8.10"
  }
 },
 "nbformat": 4,
 "nbformat_minor": 2
}

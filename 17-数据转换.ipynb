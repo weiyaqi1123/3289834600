{
 "cells": [
  {
   "cell_type": "markdown",
   "metadata": {},
   "source": [
    "#变量生成\n",
    "\n"
   ]
  },
  {
   "cell_type": "code",
   "execution_count": 1,
   "metadata": {},
   "outputs": [],
   "source": [
    "import pandas as pd\n",
    "import mytools"
   ]
  },
  {
   "cell_type": "code",
   "execution_count": null,
   "metadata": {},
   "outputs": [],
   "source": [
    "数据表 = mytools.读取SPSS数据文件(R'data\\国家认同数据清理后.sav')\n",
    "数据表.columns"
   ]
  },
  {
   "cell_type": "markdown",
   "metadata": {},
   "source": [
    "import pandas as pd\n",
    "from scipy.stats import chi2_contingency\n",
    "\n",
    "# 读取数据\n",
    "data = pd.read_spss('国家认同数据清理后.sav')\n",
    "\n",
    "# 数据清理\n",
    "# ...\n",
    "\n",
    "# 选择变量\n",
    "selected_variables = ['政治面貌', '年级', '选定的类别变量']\n",
    "\n",
    "# 绘制交互分类表\n",
    "# 选择特定年级的数据子集\n",
    "specific_grade_data = data[data['年级'] == 'specific_grade']\n",
    "\n",
    "# 交互分类表\n",
    "cross_table = pd.crosstab(index=[specific_grade_data['政治面貌']], columns=specific_grade_data['选定的类别变量'], margins=True, margins_name=\"Total\", normalize='index')\n",
    "import pandas as pd\n",
    "\n",
    "# 创建交互分类表并计算百分比\n",
    "cross_table = pd.crosstab(index=[data['政治面貌']], columns=data['选定的类别变量'], margins=True, margins_name=\"Total\", normalize='index')\n",
    "\n",
    "# 打印交互分类表\n",
    "print(cross_table)\n",
    "\n",
    "# 相关系数\n",
    "correlation = specific_grade_data['政治面貌'].corr(specific_grade_data['选定的类别变量'])\n",
    "\n",
    "# 卡方检验\n",
    "chi2, p, dof, expected = chi2_contingency(pd.crosstab(specific_grade_data['政治面貌'], specific_grade_data['选定的类别变量']))\n",
    "\n",
    "# 打印结果\n",
    "print(cross_table)\n",
    "print(\"Correlation coefficient:\", correlation)\n",
    "print(\"Chi-square test - Chi2:\", chi2, \"p-value:\", p)"
   ]
  }
 ],
 "metadata": {
  "kernelspec": {
   "display_name": "Python 3",
   "language": "python",
   "name": "python3"
  },
  "language_info": {
   "codemirror_mode": {
    "name": "ipython",
    "version": 3
   },
   "file_extension": ".py",
   "mimetype": "text/x-python",
   "name": "python",
   "nbconvert_exporter": "python",
   "pygments_lexer": "ipython3",
   "version": "3.8.10"
  }
 },
 "nbformat": 4,
 "nbformat_minor": 2
}

{
 "cells": [
  {
   "cell_type": "code",
   "execution_count": null,
   "metadata": {},
   "outputs": [],
   "source": [
    "''''''\n",
    "数值变量的描述统计\n",
    "\n",
    "统计指标：\n",
    "\n",
    "1. 中值\n",
    "2. 平均值\n",
    "3. 方差\n",
    "\n",
    "可视化：\n",
    "\n",
    "1. 散点图\n",
    "\n",
    "''''''"
   ]
  },
  {
   "cell_type": "code",
   "execution_count": 10,
   "metadata": {},
   "outputs": [],
   "source": [
    "from pyreadstat import pyreadstat"
   ]
  },
  {
   "cell_type": "code",
   "execution_count": 11,
   "metadata": {},
   "outputs": [],
   "source": [
    "import mytools\n",
    "国家认同原始数据,meta = mytools.读取spss数据文件(R'data/identity.sav')\n",
    "df, metadata = pyreadstat.read_sav(r'data/identity.sav',\n",
    "apply_value_formats=True,formats_as_ordered_category=True)"
   ]
  },
  {
   "cell_type": "code",
   "execution_count": 12,
   "metadata": {},
   "outputs": [
    {
     "data": {
      "text/plain": [
       "0      一般般\n",
       "1       挺好\n",
       "2       挺好\n",
       "3       挺好\n",
       "4      十分棒\n",
       "      ... \n",
       "900    NaN\n",
       "901    NaN\n",
       "902    NaN\n",
       "903    NaN\n",
       "904    NaN\n",
       "Name: 您觉得中国怎么样, Length: 905, dtype: category\n",
       "Categories (5, object): ['很差劲' < '较差' < '一般般' < '挺好' < '十分棒']"
      ]
     },
     "execution_count": 12,
     "metadata": {},
     "output_type": "execute_result"
    }
   ],
   "source": [
    "国家认同原始数据.您觉得中国怎么样"
   ]
  },
  {
   "cell_type": "code",
   "execution_count": null,
   "metadata": {},
   "outputs": [],
   "source": [
    "df['自豪感'] = df.您觉得中国怎么样 + df.您认为中国有多少值得自豪的地方"
   ]
  },
  {
   "cell_type": "code",
   "execution_count": null,
   "metadata": {},
   "outputs": [],
   "source": [
    "df['自豪感'].medain()"
   ]
  },
  {
   "cell_type": "code",
   "execution_count": null,
   "metadata": {},
   "outputs": [],
   "source": [
    "df['自豪感'].mean()"
   ]
  },
  {
   "cell_type": "code",
   "execution_count": null,
   "metadata": {},
   "outputs": [],
   "source": [
    "df['自豪感'].std()"
   ]
  },
  {
   "cell_type": "code",
   "execution_count": null,
   "metadata": {},
   "outputs": [],
   "source": [
    "result = df['自豪感'].describe()"
   ]
  },
  {
   "cell_type": "code",
   "execution_count": null,
   "metadata": {},
   "outputs": [],
   "source": [
    "result['mean']"
   ]
  },
  {
   "cell_type": "code",
   "execution_count": null,
   "metadata": {},
   "outputs": [],
   "source": [
    "mytools.数值变量描述统计(df,'自豪感')"
   ]
  }
 ],
 "metadata": {
  "kernelspec": {
   "display_name": "Python 3",
   "language": "python",
   "name": "python3"
  },
  "language_info": {
   "codemirror_mode": {
    "name": "ipython",
    "version": 3
   },
   "file_extension": ".py",
   "mimetype": "text/x-python",
   "name": "python",
   "nbconvert_exporter": "python",
   "pygments_lexer": "ipython3",
   "version": "3.8.10"
  }
 },
 "nbformat": 4,
 "nbformat_minor": 2
}

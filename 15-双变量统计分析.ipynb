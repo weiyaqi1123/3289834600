{
 "cells": [
  {
   "cell_type": "code",
   "execution_count": 12,
   "metadata": {},
   "outputs": [],
   "source": [
    "import mytools \n",
    "import pandas as pd"
   ]
  },
  {
   "cell_type": "code",
   "execution_count": 13,
   "metadata": {},
   "outputs": [],
   "source": [
    "数据表 = pd.read_excel(R'data\\AI作品态度.xlsx')"
   ]
  },
  {
   "cell_type": "code",
   "execution_count": 14,
   "metadata": {},
   "outputs": [
    {
     "data": {
      "text/plain": [
       "Index(['序号', '提交答卷时间', '所用时间', '来源', '来源详情', '来自IP', '1、Al作品与人类作品您认为是否有区别?',\n",
       "       '2、请问以下哪个图是AI绘图形成：', '3、以下哪张图是传统绘画作品', '喜欢绘画的程度', '5、你是否了解AI(创作）？',\n",
       "       '6、如果你会使用AI绘图，你是否想要将其应用到你的生活和工作之中？',\n",
       "       '7、假如你是AI绘画研发人员，在AI绘画推广过程中，你更看重？(多选)', '8、请问你认为借助AI创作出的作品可以被称为艺术品吗?',\n",
       "       '9、当您作为观看者时，请问您更喜欢观赏传统及现有绘画艺术作品还是AI(绘画)艺术作品?',\n",
       "       '10、在今年美国科罗拉多轴博览会艺术比赛中的数字类别中，39岁游戏设计师JasonAllen的作品夺得头奖。这副画作是他使用AI绘图工具完成的，这引来了不少来自人类艺术家的指责。如果是你，你会支持JasonAllen吗?',\n",
       "       '11、“Al的产生到底是为了方便人的生产激发人的创造力，还是要践踏无数艺术家的创造力扶摇直上。”这句话你怎么看?',\n",
       "       '12、你认为AI的发展会对绘画行业造成多大影响', '13、面对某一件事情，你更在乎过程还是结果？',\n",
       "       '14、对某一件事情的看法，你认为你更多的是出于理性还是感性？', '15、你认为事实和立场，哪个更重要？',\n",
       "       '16、AI绘画提供了更多创意，促进了艺术领域的繁荣',\n",
       "       '17、市面上有各种各样的绘画材料，甚至价格不菲，而通过AI软件绘画则不需要购买这些材料。我认为，在未来AI的发展会打击绘画材料的市场',\n",
       "       '18、越来越多的公司要求设计作品用电脑软件来完成，在未来商业上，我认为AI作品会取代手绘作品',\n",
       "       '19、AI作画推广过程中，绘画创作行业产生激烈竞争，我会选择对这个行业避而远之',\n",
       "       '20、比起对于低成本，高效率的工作方法，我更倾向具有工匠精神的工作方法',\n",
       "       '21、在面对各种相互对立的想法时，我喜欢确定哪一种是做某件事情的正确方式和方法', '22、对于新事物，我喜欢去尝试和体验',\n",
       "       '23、请问您是否觉得此问卷有不足的地方或建议', '总分'],\n",
       "      dtype='object')"
      ]
     },
     "execution_count": 14,
     "metadata": {},
     "output_type": "execute_result"
    }
   ],
   "source": [
    "数据表.columns"
   ]
  },
  {
   "cell_type": "code",
   "execution_count": 15,
   "metadata": {},
   "outputs": [
    {
     "name": "stdout",
     "output_type": "stream",
     "text": [
      "tau_y系数: 0.0472 极弱相关或无相关\n",
      "--------------------------------------  --  -  --  -  -\n",
      "从来不画画                               7  6  11  1  1\n",
      "喜欢，经常画画                          10  3   1  2  0\n",
      "平时都不会画，除非有工作或学习上的要求  26  6  10  6  3\n",
      "还行，偶尔画画                          35  7   8  3  4\n",
      "--------------------------------------  --  -  --  -  -\n",
      "卡方值： 19.11, p值： 0.0859,自由度:12。\n",
      "接受虚无假设\n"
     ]
    }
   ],
   "source": [
    "mytools.两个无序类别变量的统计分析(数据表,\"喜欢绘画的程度\",\"2、请问以下哪个图是AI绘图形成：\")"
   ]
  },
  {
   "cell_type": "code",
   "execution_count": 16,
   "metadata": {},
   "outputs": [],
   "source": [
    "from pyreadstat import pyreadstat"
   ]
  },
  {
   "cell_type": "code",
   "execution_count": 17,
   "metadata": {},
   "outputs": [],
   "source": [
    "import mytools\n",
    "国家认同原始数据,meta = mytools.读取spss数据文件(R'data/identity.sav')"
   ]
  },
  {
   "cell_type": "code",
   "execution_count": 18,
   "metadata": {},
   "outputs": [
    {
     "data": {
      "text/plain": [
       "Index(['问卷编号', '调查员', '民族', '政治面貌', '年级', '典型中国人', '中国人特点', 'v1', 'v2', 'v3',\n",
       "       'v4', '你是否了解重活民族的传统节日', 'v5', '您觉得中国怎么样', '您认为中国有多少值得自豪的地方',\n",
       "       '您认为世界有多少比例的人尊重中国', '对您而言作为一名中国人有多重要', '会以中国人自豪吗', '会隐瞒身份吗', '会打多少分',\n",
       "       '国歌升起', '世博会', '中国传统文化', '发展信心', '你会为中国运动员呐喊助威', '遇到灾难时中国人应该伸出援手',\n",
       "       '你愿意加入其他国籍吗', '中国人要为祖国统一奋斗吗'],\n",
       "      dtype='object')"
      ]
     },
     "execution_count": 18,
     "metadata": {},
     "output_type": "execute_result"
    }
   ],
   "source": [
    "国家认同原始数据.columns"
   ]
  },
  {
   "cell_type": "code",
   "execution_count": 19,
   "metadata": {},
   "outputs": [
    {
     "name": "stdout",
     "output_type": "stream",
     "text": [
      "Somers dy系数: 0.0798 极弱相关或无相关\n",
      "----  --  --  --  --  ---\n",
      "预科   0   0   8   1    5\n",
      "大一  15  14  45  75  158\n",
      "大二   8  27  37  81  125\n",
      "大三   0  12  31  68   61\n",
      "大四   3   5  17  24   45\n",
      "----  --  --  --  --  ---\n",
      "p值： 0.0088\n",
      "拒绝虚无假设\n"
     ]
    }
   ],
   "source": [
    "mytools.两个有序类别变量的统计分析(国家认同原始数据,'年级','典型中国人')"
   ]
  },
  {
   "cell_type": "code",
   "execution_count": 20,
   "metadata": {},
   "outputs": [
    {
     "ename": "KeyError",
     "evalue": "'16、AI绘画提供了更多创意,促进了艺术领域的繁荣'",
     "output_type": "error",
     "traceback": [
      "\u001b[1;31m---------------------------------------------------------------------------\u001b[0m",
      "\u001b[1;31mKeyError\u001b[0m                                  Traceback (most recent call last)",
      "File \u001b[1;32m~\\AppData\\Roaming\\Python\\Python38\\site-packages\\pandas\\core\\indexes\\base.py:3653\u001b[0m, in \u001b[0;36mIndex.get_loc\u001b[1;34m(self, key)\u001b[0m\n\u001b[0;32m   3652\u001b[0m \u001b[39mtry\u001b[39;00m:\n\u001b[1;32m-> 3653\u001b[0m     \u001b[39mreturn\u001b[39;00m \u001b[39mself\u001b[39;49m\u001b[39m.\u001b[39;49m_engine\u001b[39m.\u001b[39;49mget_loc(casted_key)\n\u001b[0;32m   3654\u001b[0m \u001b[39mexcept\u001b[39;00m \u001b[39mKeyError\u001b[39;00m \u001b[39mas\u001b[39;00m err:\n",
      "File \u001b[1;32m~\\AppData\\Roaming\\Python\\Python38\\site-packages\\pandas\\_libs\\index.pyx:147\u001b[0m, in \u001b[0;36mpandas._libs.index.IndexEngine.get_loc\u001b[1;34m()\u001b[0m\n",
      "File \u001b[1;32m~\\AppData\\Roaming\\Python\\Python38\\site-packages\\pandas\\_libs\\index.pyx:176\u001b[0m, in \u001b[0;36mpandas._libs.index.IndexEngine.get_loc\u001b[1;34m()\u001b[0m\n",
      "File \u001b[1;32mpandas\\_libs\\hashtable_class_helper.pxi:7080\u001b[0m, in \u001b[0;36mpandas._libs.hashtable.PyObjectHashTable.get_item\u001b[1;34m()\u001b[0m\n",
      "File \u001b[1;32mpandas\\_libs\\hashtable_class_helper.pxi:7088\u001b[0m, in \u001b[0;36mpandas._libs.hashtable.PyObjectHashTable.get_item\u001b[1;34m()\u001b[0m\n",
      "\u001b[1;31mKeyError\u001b[0m: '16、AI绘画提供了更多创意,促进了艺术领域的繁荣'",
      "\nThe above exception was the direct cause of the following exception:\n",
      "\u001b[1;31mKeyError\u001b[0m                                  Traceback (most recent call last)",
      "\u001b[1;32mc:\\Users\\韦亚琦\\Desktop\\3289834600\\15-双变量统计分析.ipynb 单元格 9\u001b[0m line \u001b[0;36m1\n\u001b[1;32m----> <a href='vscode-notebook-cell:/c%3A/Users/%E9%9F%A6%E4%BA%9A%E7%90%A6/Desktop/3289834600/15-%E5%8F%8C%E5%8F%98%E9%87%8F%E7%BB%9F%E8%AE%A1%E5%88%86%E6%9E%90.ipynb#X23sZmlsZQ%3D%3D?line=0'>1</a>\u001b[0m mytools\u001b[39m.\u001b[39;49m两个数值变量的统计分析(数据表,\u001b[39m'\u001b[39;49m\u001b[39m16、AI绘画提供了更多创意,促进了艺术领域的繁荣\u001b[39;49m\u001b[39m'\u001b[39;49m,\u001b[39m'\u001b[39;49m\u001b[39m总分\u001b[39;49m\u001b[39m'\u001b[39;49m)\n",
      "File \u001b[1;32mc:\\Users\\韦亚琦\\Desktop\\3289834600\\mytools.py:252\u001b[0m, in \u001b[0;36m两个数值变量的统计分析\u001b[1;34m(数据表, 自变量, 因变量)\u001b[0m\n\u001b[0;32m    249\u001b[0m \u001b[39mdef\u001b[39;00m \u001b[39m两个数值变量的统计分析\u001b[39m(数据表, 自变量, 因变量):\n\u001b[0;32m    250\u001b[0m \u001b[39m    \u001b[39m\u001b[39m\"\"\" 对两个数值变量进行统计分析，并给出辅助结论 \"\"\"\u001b[39;00m\n\u001b[1;32m--> 252\u001b[0m     x \u001b[39m=\u001b[39m 数据表[自变量]\n\u001b[0;32m    253\u001b[0m     y \u001b[39m=\u001b[39m 数据表[因变量]\n\u001b[0;32m    254\u001b[0m     r, p \u001b[39m=\u001b[39m stats\u001b[39m.\u001b[39mpearsonr(x, y)\n",
      "File \u001b[1;32m~\\AppData\\Roaming\\Python\\Python38\\site-packages\\pandas\\core\\frame.py:3761\u001b[0m, in \u001b[0;36mDataFrame.__getitem__\u001b[1;34m(self, key)\u001b[0m\n\u001b[0;32m   3759\u001b[0m \u001b[39mif\u001b[39;00m \u001b[39mself\u001b[39m\u001b[39m.\u001b[39mcolumns\u001b[39m.\u001b[39mnlevels \u001b[39m>\u001b[39m \u001b[39m1\u001b[39m:\n\u001b[0;32m   3760\u001b[0m     \u001b[39mreturn\u001b[39;00m \u001b[39mself\u001b[39m\u001b[39m.\u001b[39m_getitem_multilevel(key)\n\u001b[1;32m-> 3761\u001b[0m indexer \u001b[39m=\u001b[39m \u001b[39mself\u001b[39;49m\u001b[39m.\u001b[39;49mcolumns\u001b[39m.\u001b[39;49mget_loc(key)\n\u001b[0;32m   3762\u001b[0m \u001b[39mif\u001b[39;00m is_integer(indexer):\n\u001b[0;32m   3763\u001b[0m     indexer \u001b[39m=\u001b[39m [indexer]\n",
      "File \u001b[1;32m~\\AppData\\Roaming\\Python\\Python38\\site-packages\\pandas\\core\\indexes\\base.py:3655\u001b[0m, in \u001b[0;36mIndex.get_loc\u001b[1;34m(self, key)\u001b[0m\n\u001b[0;32m   3653\u001b[0m     \u001b[39mreturn\u001b[39;00m \u001b[39mself\u001b[39m\u001b[39m.\u001b[39m_engine\u001b[39m.\u001b[39mget_loc(casted_key)\n\u001b[0;32m   3654\u001b[0m \u001b[39mexcept\u001b[39;00m \u001b[39mKeyError\u001b[39;00m \u001b[39mas\u001b[39;00m err:\n\u001b[1;32m-> 3655\u001b[0m     \u001b[39mraise\u001b[39;00m \u001b[39mKeyError\u001b[39;00m(key) \u001b[39mfrom\u001b[39;00m \u001b[39merr\u001b[39;00m\n\u001b[0;32m   3656\u001b[0m \u001b[39mexcept\u001b[39;00m \u001b[39mTypeError\u001b[39;00m:\n\u001b[0;32m   3657\u001b[0m     \u001b[39m# If we have a listlike key, _check_indexing_error will raise\u001b[39;00m\n\u001b[0;32m   3658\u001b[0m     \u001b[39m#  InvalidIndexError. Otherwise we fall through and re-raise\u001b[39;00m\n\u001b[0;32m   3659\u001b[0m     \u001b[39m#  the TypeError.\u001b[39;00m\n\u001b[0;32m   3660\u001b[0m     \u001b[39mself\u001b[39m\u001b[39m.\u001b[39m_check_indexing_error(key)\n",
      "\u001b[1;31mKeyError\u001b[0m: '16、AI绘画提供了更多创意,促进了艺术领域的繁荣'"
     ]
    }
   ],
   "source": [
    "mytools.两个数值变量的统计分析(数据表,'16、AI绘画提供了更多创意,促进了艺术领域的繁荣','总分')"
   ]
  },
  {
   "cell_type": "code",
   "execution_count": null,
   "metadata": {},
   "outputs": [
    {
     "ename": "ValueError",
     "evalue": "setting an array element with a sequence. The requested array has an inhomogeneous shape after 1 dimensions. The detected shape was (2,) + inhomogeneous part.",
     "output_type": "error",
     "traceback": [
      "\u001b[1;31m---------------------------------------------------------------------------\u001b[0m",
      "\u001b[1;31mValueError\u001b[0m                                Traceback (most recent call last)",
      "\u001b[1;32mc:\\Users\\韦亚琦\\Desktop\\3289834600\\15-双变量统计分析.ipynb 单元格 10\u001b[0m line \u001b[0;36m2\n\u001b[0;32m      <a href='vscode-notebook-cell:/c%3A/Users/%E9%9F%A6%E4%BA%9A%E7%90%A6/Desktop/3289834600/15-%E5%8F%8C%E5%8F%98%E9%87%8F%E7%BB%9F%E8%AE%A1%E5%88%86%E6%9E%90.ipynb#X24sZmlsZQ%3D%3D?line=0'>1</a>\u001b[0m 英语成绩表 \u001b[39m=\u001b[39m mytools\u001b[39m.\u001b[39m读取spss数据文件(\u001b[39mR\u001b[39m\u001b[39m'\u001b[39m\u001b[39mdata\u001b[39m\u001b[39m\\\u001b[39m\u001b[39mscore.sav\u001b[39m\u001b[39m'\u001b[39m)\n\u001b[1;32m----> <a href='vscode-notebook-cell:/c%3A/Users/%E9%9F%A6%E4%BA%9A%E7%90%A6/Desktop/3289834600/15-%E5%8F%8C%E5%8F%98%E9%87%8F%E7%BB%9F%E8%AE%A1%E5%88%86%E6%9E%90.ipynb#X24sZmlsZQ%3D%3D?line=1'>2</a>\u001b[0m mytools\u001b[39m.\u001b[39;49m类别变量与数值变量统计分析(英语成绩表,\u001b[39m'\u001b[39;49m\u001b[39m职业\u001b[39;49m\u001b[39m'\u001b[39;49m,\u001b[39m'\u001b[39;49m\u001b[39m英语成绩\u001b[39;49m\u001b[39m'\u001b[39;49m)\n",
      "File \u001b[1;32mc:\\Users\\韦亚琦\\Desktop\\3289834600\\mytools.py:304\u001b[0m, in \u001b[0;36m类别变量与数值变量统计分析\u001b[1;34m(数据表, 类别变量, 数值变量)\u001b[0m\n\u001b[0;32m    301\u001b[0m \u001b[39m\u001b[39m\u001b[39m\"\"\" 对数值变量的不同类别进行对比，并给出辅助结论 \"\"\"\u001b[39;00m\n\u001b[0;32m    302\u001b[0m \u001b[39mfrom\u001b[39;00m \u001b[39mstatsmodels\u001b[39;00m\u001b[39m.\u001b[39;00m\u001b[39mformula\u001b[39;00m\u001b[39m.\u001b[39;00m\u001b[39mapi\u001b[39;00m \u001b[39mimport\u001b[39;00m ols\n\u001b[1;32m--> 304\u001b[0m fig \u001b[39m=\u001b[39m px\u001b[39m.\u001b[39;49mbox(数据表, x\u001b[39m=\u001b[39;49m类别变量, y\u001b[39m=\u001b[39;49m数值变量)\n\u001b[0;32m    305\u001b[0m fig\u001b[39m.\u001b[39mshow()\n\u001b[0;32m    307\u001b[0m model \u001b[39m=\u001b[39m ols(\u001b[39mF\u001b[39m\u001b[39m'\u001b[39m\u001b[39m{\u001b[39;00m数值变量\u001b[39m}\u001b[39;00m\u001b[39m ~ \u001b[39m\u001b[39m{\u001b[39;00m类别变量\u001b[39m}\u001b[39;00m\u001b[39m'\u001b[39m, 数据表)\u001b[39m.\u001b[39mfit()\n",
      "File \u001b[1;32m~\\AppData\\Roaming\\Python\\Python38\\site-packages\\plotly\\express\\_chart_types.py:666\u001b[0m, in \u001b[0;36mbox\u001b[1;34m(data_frame, x, y, color, facet_row, facet_col, facet_col_wrap, facet_row_spacing, facet_col_spacing, hover_name, hover_data, custom_data, animation_frame, animation_group, category_orders, labels, color_discrete_sequence, color_discrete_map, orientation, boxmode, log_x, log_y, range_x, range_y, points, notched, title, template, width, height)\u001b[0m\n\u001b[0;32m    625\u001b[0m \u001b[39mdef\u001b[39;00m \u001b[39mbox\u001b[39m(\n\u001b[0;32m    626\u001b[0m     data_frame\u001b[39m=\u001b[39m\u001b[39mNone\u001b[39;00m,\n\u001b[0;32m    627\u001b[0m     x\u001b[39m=\u001b[39m\u001b[39mNone\u001b[39;00m,\n\u001b[1;32m   (...)\u001b[0m\n\u001b[0;32m    655\u001b[0m     height\u001b[39m=\u001b[39m\u001b[39mNone\u001b[39;00m,\n\u001b[0;32m    656\u001b[0m ) \u001b[39m-\u001b[39m\u001b[39m>\u001b[39m go\u001b[39m.\u001b[39mFigure:\n\u001b[0;32m    657\u001b[0m \u001b[39m    \u001b[39m\u001b[39m\"\"\"\u001b[39;00m\n\u001b[0;32m    658\u001b[0m \u001b[39m    In a box plot, rows of `data_frame` are grouped together into a\u001b[39;00m\n\u001b[0;32m    659\u001b[0m \u001b[39m    box-and-whisker mark to visualize their distribution.\u001b[39;00m\n\u001b[1;32m   (...)\u001b[0m\n\u001b[0;32m    664\u001b[0m \u001b[39m    range (IQR: Q3-Q1), see \"points\" for other options.\u001b[39;00m\n\u001b[0;32m    665\u001b[0m \u001b[39m    \"\"\"\u001b[39;00m\n\u001b[1;32m--> 666\u001b[0m     \u001b[39mreturn\u001b[39;00m make_figure(\n\u001b[0;32m    667\u001b[0m         args\u001b[39m=\u001b[39;49m\u001b[39mlocals\u001b[39;49m(),\n\u001b[0;32m    668\u001b[0m         constructor\u001b[39m=\u001b[39;49mgo\u001b[39m.\u001b[39;49mBox,\n\u001b[0;32m    669\u001b[0m         trace_patch\u001b[39m=\u001b[39;49m\u001b[39mdict\u001b[39;49m(boxpoints\u001b[39m=\u001b[39;49mpoints, notched\u001b[39m=\u001b[39;49mnotched, x0\u001b[39m=\u001b[39;49m\u001b[39m\"\u001b[39;49m\u001b[39m \u001b[39;49m\u001b[39m\"\u001b[39;49m, y0\u001b[39m=\u001b[39;49m\u001b[39m\"\u001b[39;49m\u001b[39m \u001b[39;49m\u001b[39m\"\u001b[39;49m),\n\u001b[0;32m    670\u001b[0m         layout_patch\u001b[39m=\u001b[39;49m\u001b[39mdict\u001b[39;49m(boxmode\u001b[39m=\u001b[39;49mboxmode),\n\u001b[0;32m    671\u001b[0m     )\n",
      "File \u001b[1;32m~\\AppData\\Roaming\\Python\\Python38\\site-packages\\plotly\\express\\_core.py:2076\u001b[0m, in \u001b[0;36mmake_figure\u001b[1;34m(args, constructor, trace_patch, layout_patch)\u001b[0m\n\u001b[0;32m   2073\u001b[0m layout_patch \u001b[39m=\u001b[39m layout_patch \u001b[39mor\u001b[39;00m {}\n\u001b[0;32m   2074\u001b[0m apply_default_cascade(args)\n\u001b[1;32m-> 2076\u001b[0m args \u001b[39m=\u001b[39m build_dataframe(args, constructor)\n\u001b[0;32m   2077\u001b[0m \u001b[39mif\u001b[39;00m constructor \u001b[39min\u001b[39;00m [go\u001b[39m.\u001b[39mTreemap, go\u001b[39m.\u001b[39mSunburst, go\u001b[39m.\u001b[39mIcicle] \u001b[39mand\u001b[39;00m args[\u001b[39m\"\u001b[39m\u001b[39mpath\u001b[39m\u001b[39m\"\u001b[39m] \u001b[39mis\u001b[39;00m \u001b[39mnot\u001b[39;00m \u001b[39mNone\u001b[39;00m:\n\u001b[0;32m   2078\u001b[0m     args \u001b[39m=\u001b[39m process_dataframe_hierarchy(args)\n",
      "File \u001b[1;32m~\\AppData\\Roaming\\Python\\Python38\\site-packages\\plotly\\express\\_core.py:1341\u001b[0m, in \u001b[0;36mbuild_dataframe\u001b[1;34m(args, constructor)\u001b[0m\n\u001b[0;32m   1339\u001b[0m         columns \u001b[39m=\u001b[39m args[\u001b[39m\"\u001b[39m\u001b[39mdata_frame\u001b[39m\u001b[39m\"\u001b[39m]\u001b[39m.\u001b[39mcolumns\n\u001b[0;32m   1340\u001b[0m     \u001b[39melse\u001b[39;00m:\n\u001b[1;32m-> 1341\u001b[0m         args[\u001b[39m\"\u001b[39m\u001b[39mdata_frame\u001b[39m\u001b[39m\"\u001b[39m] \u001b[39m=\u001b[39m pd\u001b[39m.\u001b[39;49mDataFrame(args[\u001b[39m\"\u001b[39;49m\u001b[39mdata_frame\u001b[39;49m\u001b[39m\"\u001b[39;49m])\n\u001b[0;32m   1342\u001b[0m         columns \u001b[39m=\u001b[39m args[\u001b[39m\"\u001b[39m\u001b[39mdata_frame\u001b[39m\u001b[39m\"\u001b[39m]\u001b[39m.\u001b[39mcolumns\n\u001b[0;32m   1343\u001b[0m \u001b[39melif\u001b[39;00m df_provided:\n",
      "File \u001b[1;32m~\\AppData\\Roaming\\Python\\Python38\\site-packages\\pandas\\core\\frame.py:798\u001b[0m, in \u001b[0;36mDataFrame.__init__\u001b[1;34m(self, data, index, columns, dtype, copy)\u001b[0m\n\u001b[0;32m    790\u001b[0m         mgr \u001b[39m=\u001b[39m arrays_to_mgr(\n\u001b[0;32m    791\u001b[0m             arrays,\n\u001b[0;32m    792\u001b[0m             columns,\n\u001b[1;32m   (...)\u001b[0m\n\u001b[0;32m    795\u001b[0m             typ\u001b[39m=\u001b[39mmanager,\n\u001b[0;32m    796\u001b[0m         )\n\u001b[0;32m    797\u001b[0m     \u001b[39melse\u001b[39;00m:\n\u001b[1;32m--> 798\u001b[0m         mgr \u001b[39m=\u001b[39m ndarray_to_mgr(\n\u001b[0;32m    799\u001b[0m             data,\n\u001b[0;32m    800\u001b[0m             index,\n\u001b[0;32m    801\u001b[0m             columns,\n\u001b[0;32m    802\u001b[0m             dtype\u001b[39m=\u001b[39;49mdtype,\n\u001b[0;32m    803\u001b[0m             copy\u001b[39m=\u001b[39;49mcopy,\n\u001b[0;32m    804\u001b[0m             typ\u001b[39m=\u001b[39;49mmanager,\n\u001b[0;32m    805\u001b[0m         )\n\u001b[0;32m    806\u001b[0m \u001b[39melse\u001b[39;00m:\n\u001b[0;32m    807\u001b[0m     mgr \u001b[39m=\u001b[39m dict_to_mgr(\n\u001b[0;32m    808\u001b[0m         {},\n\u001b[0;32m    809\u001b[0m         index,\n\u001b[1;32m   (...)\u001b[0m\n\u001b[0;32m    812\u001b[0m         typ\u001b[39m=\u001b[39mmanager,\n\u001b[0;32m    813\u001b[0m     )\n",
      "File \u001b[1;32m~\\AppData\\Roaming\\Python\\Python38\\site-packages\\pandas\\core\\internals\\construction.py:320\u001b[0m, in \u001b[0;36mndarray_to_mgr\u001b[1;34m(values, index, columns, dtype, copy, typ)\u001b[0m\n\u001b[0;32m    315\u001b[0m     values \u001b[39m=\u001b[39m _ensure_2d(values)\n\u001b[0;32m    317\u001b[0m \u001b[39melse\u001b[39;00m:\n\u001b[0;32m    318\u001b[0m     \u001b[39m# by definition an array here\u001b[39;00m\n\u001b[0;32m    319\u001b[0m     \u001b[39m# the dtypes will be coerced to a single dtype\u001b[39;00m\n\u001b[1;32m--> 320\u001b[0m     values \u001b[39m=\u001b[39m _prep_ndarraylike(values, copy\u001b[39m=\u001b[39;49mcopy_on_sanitize)\n\u001b[0;32m    322\u001b[0m \u001b[39mif\u001b[39;00m dtype \u001b[39mis\u001b[39;00m \u001b[39mnot\u001b[39;00m \u001b[39mNone\u001b[39;00m \u001b[39mand\u001b[39;00m \u001b[39mnot\u001b[39;00m is_dtype_equal(values\u001b[39m.\u001b[39mdtype, dtype):\n\u001b[0;32m    323\u001b[0m     \u001b[39m# GH#40110 see similar check inside sanitize_array\u001b[39;00m\n\u001b[0;32m    324\u001b[0m     values \u001b[39m=\u001b[39m sanitize_array(\n\u001b[0;32m    325\u001b[0m         values,\n\u001b[0;32m    326\u001b[0m         \u001b[39mNone\u001b[39;00m,\n\u001b[1;32m   (...)\u001b[0m\n\u001b[0;32m    329\u001b[0m         allow_2d\u001b[39m=\u001b[39m\u001b[39mTrue\u001b[39;00m,\n\u001b[0;32m    330\u001b[0m     )\n",
      "File \u001b[1;32m~\\AppData\\Roaming\\Python\\Python38\\site-packages\\pandas\\core\\internals\\construction.py:553\u001b[0m, in \u001b[0;36m_prep_ndarraylike\u001b[1;34m(values, copy)\u001b[0m\n\u001b[0;32m    547\u001b[0m \u001b[39m# we could have a 1-dim or 2-dim list here\u001b[39;00m\n\u001b[0;32m    548\u001b[0m \u001b[39m# this is equiv of np.asarray, but does object conversion\u001b[39;00m\n\u001b[0;32m    549\u001b[0m \u001b[39m# and platform dtype preservation\u001b[39;00m\n\u001b[0;32m    550\u001b[0m \u001b[39m# does not convert e.g. [1, \"a\", True] to [\"1\", \"a\", \"True\"] like\u001b[39;00m\n\u001b[0;32m    551\u001b[0m \u001b[39m#  np.asarray would\u001b[39;00m\n\u001b[0;32m    552\u001b[0m \u001b[39mif\u001b[39;00m is_list_like(values[\u001b[39m0\u001b[39m]):\n\u001b[1;32m--> 553\u001b[0m     values \u001b[39m=\u001b[39m np\u001b[39m.\u001b[39;49marray([convert(v) \u001b[39mfor\u001b[39;49;00m v \u001b[39min\u001b[39;49;00m values])\n\u001b[0;32m    554\u001b[0m \u001b[39melif\u001b[39;00m \u001b[39misinstance\u001b[39m(values[\u001b[39m0\u001b[39m], np\u001b[39m.\u001b[39mndarray) \u001b[39mand\u001b[39;00m values[\u001b[39m0\u001b[39m]\u001b[39m.\u001b[39mndim \u001b[39m==\u001b[39m \u001b[39m0\u001b[39m:\n\u001b[0;32m    555\u001b[0m     \u001b[39m# GH#21861 see test_constructor_list_of_lists\u001b[39;00m\n\u001b[0;32m    556\u001b[0m     values \u001b[39m=\u001b[39m np\u001b[39m.\u001b[39marray([convert(v) \u001b[39mfor\u001b[39;00m v \u001b[39min\u001b[39;00m values])\n",
      "\u001b[1;31mValueError\u001b[0m: setting an array element with a sequence. The requested array has an inhomogeneous shape after 1 dimensions. The detected shape was (2,) + inhomogeneous part."
     ]
    }
   ],
   "source": [
    "英语成绩表 = mytools.读取spss数据文件(R'data\\score.sav')\n",
    "mytools.类别变量与数值变量统计分析(英语成绩表,'职业','英语成绩')"
   ]
  }
 ],
 "metadata": {
  "kernelspec": {
   "display_name": "Python 3",
   "language": "python",
   "name": "python3"
  },
  "language_info": {
   "codemirror_mode": {
    "name": "ipython",
    "version": 3
   },
   "file_extension": ".py",
   "mimetype": "text/x-python",
   "name": "python",
   "nbconvert_exporter": "python",
   "pygments_lexer": "ipython3",
   "version": "3.8.10"
  }
 },
 "nbformat": 4,
 "nbformat_minor": 2
}

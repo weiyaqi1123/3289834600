{
 "cells": [
  {
   "cell_type": "code",
   "execution_count": 10,
   "metadata": {},
   "outputs": [],
   "source": [
    "import mytools \n",
    "import pandas as pd"
   ]
  },
  {
   "cell_type": "code",
   "execution_count": 11,
   "metadata": {},
   "outputs": [],
   "source": [
    "数据表 = pd.read_excel(R'data\\AI作品态度.xlsx')"
   ]
  },
  {
   "cell_type": "code",
   "execution_count": 12,
   "metadata": {},
   "outputs": [
    {
     "data": {
      "text/plain": [
       "Index(['序号', '提交答卷时间', '所用时间', '来源', '来源详情', '来自IP', '1、Al作品与人类作品您认为是否有区别?',\n",
       "       '2、请问以下哪个图是AI绘图形成：', '3、以下哪张图是传统绘画作品', '喜欢绘画的程度', '5、你是否了解AI(创作）？',\n",
       "       '6、如果你会使用AI绘图，你是否想要将其应用到你的生活和工作之中？',\n",
       "       '7、假如你是AI绘画研发人员，在AI绘画推广过程中，你更看重？(多选)', '8、请问你认为借助AI创作出的作品可以被称为艺术品吗?',\n",
       "       '9、当您作为观看者时，请问您更喜欢观赏传统及现有绘画艺术作品还是AI(绘画)艺术作品?',\n",
       "       '10、在今年美国科罗拉多轴博览会艺术比赛中的数字类别中，39岁游戏设计师JasonAllen的作品夺得头奖。这副画作是他使用AI绘图工具完成的，这引来了不少来自人类艺术家的指责。如果是你，你会支持JasonAllen吗?',\n",
       "       '11、“Al的产生到底是为了方便人的生产激发人的创造力，还是要践踏无数艺术家的创造力扶摇直上。”这句话你怎么看?',\n",
       "       '12、你认为AI的发展会对绘画行业造成多大影响', '13、面对某一件事情，你更在乎过程还是结果？',\n",
       "       '14、对某一件事情的看法，你认为你更多的是出于理性还是感性？', '15、你认为事实和立场，哪个更重要？',\n",
       "       '16、AI绘画提供了更多创意，促进了艺术领域的繁荣',\n",
       "       '17、市面上有各种各样的绘画材料，甚至价格不菲，而通过AI软件绘画则不需要购买这些材料。我认为，在未来AI的发展会打击绘画材料的市场',\n",
       "       '18、越来越多的公司要求设计作品用电脑软件来完成，在未来商业上，我认为AI作品会取代手绘作品',\n",
       "       '19、AI作画推广过程中，绘画创作行业产生激烈竞争，我会选择对这个行业避而远之',\n",
       "       '20、比起对于低成本，高效率的工作方法，我更倾向具有工匠精神的工作方法',\n",
       "       '21、在面对各种相互对立的想法时，我喜欢确定哪一种是做某件事情的正确方式和方法', '22、对于新事物，我喜欢去尝试和体验',\n",
       "       '23、请问您是否觉得此问卷有不足的地方或建议', '总分'],\n",
       "      dtype='object')"
      ]
     },
     "execution_count": 12,
     "metadata": {},
     "output_type": "execute_result"
    }
   ],
   "source": [
    "数据表.columns"
   ]
  },
  {
   "cell_type": "code",
   "execution_count": 13,
   "metadata": {},
   "outputs": [
    {
     "name": "stdout",
     "output_type": "stream",
     "text": [
      "tau_y系数: 0.0472 极弱相关或无相关\n",
      "--------------------------------------  --  -  --  -  -\n",
      "从来不画画                               7  6  11  1  1\n",
      "喜欢，经常画画                          10  3   1  2  0\n",
      "平时都不会画，除非有工作或学习上的要求  26  6  10  6  3\n",
      "还行，偶尔画画                          35  7   8  3  4\n",
      "--------------------------------------  --  -  --  -  -\n",
      "卡方值： 19.11, p值： 0.0859,自由度:12。\n",
      "接受虚无假设\n"
     ]
    }
   ],
   "source": [
    "mytools.两个无序类别变量的统计分析(数据表,\"喜欢绘画的程度\",\"2、请问以下哪个图是AI绘图形成：\")"
   ]
  },
  {
   "cell_type": "code",
   "execution_count": 6,
   "metadata": {},
   "outputs": [],
   "source": [
    "from pyreadstat import pyreadstat"
   ]
  },
  {
   "cell_type": "code",
   "execution_count": 7,
   "metadata": {},
   "outputs": [
    {
     "ename": "AttributeError",
     "evalue": "module 'mytools' has no attribute '读取spss数据文件'",
     "output_type": "error",
     "traceback": [
      "\u001b[1;31m---------------------------------------------------------------------------\u001b[0m",
      "\u001b[1;31mAttributeError\u001b[0m                            Traceback (most recent call last)",
      "\u001b[1;32mc:\\Users\\韦亚琦\\Desktop\\3289834600\\15-双变量统计分析.ipynb 单元格 6\u001b[0m line \u001b[0;36m2\n\u001b[0;32m      <a href='vscode-notebook-cell:/c%3A/Users/%E9%9F%A6%E4%BA%9A%E7%90%A6/Desktop/3289834600/15-%E5%8F%8C%E5%8F%98%E9%87%8F%E7%BB%9F%E8%AE%A1%E5%88%86%E6%9E%90.ipynb#X20sZmlsZQ%3D%3D?line=0'>1</a>\u001b[0m \u001b[39mimport\u001b[39;00m \u001b[39mmytools\u001b[39;00m\n\u001b[1;32m----> <a href='vscode-notebook-cell:/c%3A/Users/%E9%9F%A6%E4%BA%9A%E7%90%A6/Desktop/3289834600/15-%E5%8F%8C%E5%8F%98%E9%87%8F%E7%BB%9F%E8%AE%A1%E5%88%86%E6%9E%90.ipynb#X20sZmlsZQ%3D%3D?line=1'>2</a>\u001b[0m 国家认同原始数据,meta \u001b[39m=\u001b[39m mytools\u001b[39m.\u001b[39;49m读取spss数据文件(\u001b[39mR\u001b[39m\u001b[39m'\u001b[39m\u001b[39mdata/identity.sav\u001b[39m\u001b[39m'\u001b[39m)\n",
      "\u001b[1;31mAttributeError\u001b[0m: module 'mytools' has no attribute '读取spss数据文件'"
     ]
    }
   ],
   "source": [
    "import mytools\n",
    "国家认同原始数据,meta = mytools.读取spss数据文件(R'data/identity.sav')"
   ]
  },
  {
   "cell_type": "code",
   "execution_count": 7,
   "metadata": {},
   "outputs": [
    {
     "data": {
      "text/plain": [
       "Index(['问卷编号', '调查员', '民族', '政治面貌', '年级', '典型中国人', '中国人特点', 'v1', 'v2', 'v3',\n",
       "       'v4', '你是否了解重活民族的传统节日', 'v5', '您觉得中国怎么样', '您认为中国有多少值得自豪的地方',\n",
       "       '您认为世界有多少比例的人尊重中国', '对您而言作为一名中国人有多重要', '会以中国人自豪吗', '会隐瞒身份吗', '会打多少分',\n",
       "       '国歌升起', '世博会', '中国传统文化', '发展信心', '你会为中国运动员呐喊助威', '遇到灾难时中国人应该伸出援手',\n",
       "       '你愿意加入其他国籍吗', '中国人要为祖国统一奋斗吗'],\n",
       "      dtype='object')"
      ]
     },
     "execution_count": 7,
     "metadata": {},
     "output_type": "execute_result"
    }
   ],
   "source": [
    "国家认同原始数据.columns"
   ]
  },
  {
   "cell_type": "code",
   "execution_count": 9,
   "metadata": {},
   "outputs": [
    {
     "name": "stdout",
     "output_type": "stream",
     "text": [
      "Somers dy系数: 0.0798 极弱相关或无相关\n",
      "----  --  --  --  --  ---\n",
      "预科   0   0   8   1    5\n",
      "大一  15  14  45  75  158\n",
      "大二   8  27  37  81  125\n",
      "大三   0  12  31  68   61\n",
      "大四   3   5  17  24   45\n",
      "----  --  --  --  --  ---\n",
      "p值： 0.0088\n",
      "拒绝虚无假设\n"
     ]
    }
   ],
   "source": [
    "mytools.两个有序类别变量的统计分析(国家认同原始数据,'年级','典型中国人')"
   ]
  },
  {
   "cell_type": "code",
   "execution_count": 8,
   "metadata": {},
   "outputs": [
    {
     "name": "stdout",
     "output_type": "stream",
     "text": [
      "Unexpected exception formatting exception. Falling back to standard exception\n"
     ]
    },
    {
     "name": "stderr",
     "output_type": "stream",
     "text": [
      "Traceback (most recent call last):\n",
      "  File \"C:\\Users\\韦亚琦\\AppData\\Roaming\\Python\\Python38\\site-packages\\pandas\\core\\indexes\\base.py\", line 3653, in get_loc\n",
      "    return self._engine.get_loc(casted_key)\n",
      "  File \"pandas\\_libs\\index.pyx\", line 147, in pandas._libs.index.IndexEngine.get_loc\n",
      "  File \"pandas\\_libs\\index.pyx\", line 176, in pandas._libs.index.IndexEngine.get_loc\n",
      "  File \"pandas\\_libs\\hashtable_class_helper.pxi\", line 7080, in pandas._libs.hashtable.PyObjectHashTable.get_item\n",
      "  File \"pandas\\_libs\\hashtable_class_helper.pxi\", line 7088, in pandas._libs.hashtable.PyObjectHashTable.get_item\n",
      "KeyError: '16、AI绘画提供了更多创意,促进了艺术领域的繁荣'\n",
      "\n",
      "The above exception was the direct cause of the following exception:\n",
      "\n",
      "Traceback (most recent call last):\n",
      "  File \"C:\\Users\\韦亚琦\\AppData\\Roaming\\Python\\Python38\\site-packages\\IPython\\core\\interactiveshell.py\", line 3508, in run_code\n",
      "    exec(code_obj, self.user_global_ns, self.user_ns)\n",
      "  File \"C:\\Users\\韦亚琦\\AppData\\Local\\Temp\\ipykernel_15944\\597054801.py\", line 1, in <module>\n",
      "    mytools.两个数值变量的统计分析(数据表,'16、AI绘画提供了更多创意,促进了艺术领域的繁荣','总分')\n",
      "  File \"c:\\Users\\韦亚琦\\Desktop\\3289834600\\mytools.py\", line 251, in 两个数值变量的统计分析\n",
      "  File \"C:\\Users\\韦亚琦\\AppData\\Roaming\\Python\\Python38\\site-packages\\pandas\\core\\frame.py\", line 3761, in __getitem__\n",
      "    indexer = self.columns.get_loc(key)\n",
      "  File \"C:\\Users\\韦亚琦\\AppData\\Roaming\\Python\\Python38\\site-packages\\pandas\\core\\indexes\\base.py\", line 3655, in get_loc\n",
      "    raise KeyError(key) from err\n",
      "KeyError: '16、AI绘画提供了更多创意,促进了艺术领域的繁荣'\n",
      "\n",
      "During handling of the above exception, another exception occurred:\n",
      "\n",
      "Traceback (most recent call last):\n",
      "  File \"C:\\Users\\韦亚琦\\AppData\\Roaming\\Python\\Python38\\site-packages\\IPython\\core\\interactiveshell.py\", line 2105, in showtraceback\n",
      "    stb = self.InteractiveTB.structured_traceback(\n",
      "  File \"C:\\Users\\韦亚琦\\AppData\\Roaming\\Python\\Python38\\site-packages\\IPython\\core\\ultratb.py\", line 1396, in structured_traceback\n",
      "    return FormattedTB.structured_traceback(\n",
      "  File \"C:\\Users\\韦亚琦\\AppData\\Roaming\\Python\\Python38\\site-packages\\IPython\\core\\ultratb.py\", line 1287, in structured_traceback\n",
      "    return VerboseTB.structured_traceback(\n",
      "  File \"C:\\Users\\韦亚琦\\AppData\\Roaming\\Python\\Python38\\site-packages\\IPython\\core\\ultratb.py\", line 1140, in structured_traceback\n",
      "    formatted_exception = self.format_exception_as_a_whole(etype, evalue, etb, number_of_lines_of_context,\n",
      "  File \"C:\\Users\\韦亚琦\\AppData\\Roaming\\Python\\Python38\\site-packages\\IPython\\core\\ultratb.py\", line 1055, in format_exception_as_a_whole\n",
      "    frames.append(self.format_record(record))\n",
      "  File \"C:\\Users\\韦亚琦\\AppData\\Roaming\\Python\\Python38\\site-packages\\IPython\\core\\ultratb.py\", line 955, in format_record\n",
      "    frame_info.lines, Colors, self.has_colors, lvals\n",
      "  File \"C:\\Users\\韦亚琦\\AppData\\Roaming\\Python\\Python38\\site-packages\\IPython\\core\\ultratb.py\", line 778, in lines\n",
      "    return self._sd.lines\n",
      "  File \"C:\\Users\\韦亚琦\\AppData\\Roaming\\Python\\Python38\\site-packages\\stack_data\\utils.py\", line 144, in cached_property_wrapper\n",
      "    value = obj.__dict__[self.func.__name__] = self.func(obj)\n",
      "  File \"C:\\Users\\韦亚琦\\AppData\\Roaming\\Python\\Python38\\site-packages\\stack_data\\core.py\", line 734, in lines\n",
      "    pieces = self.included_pieces\n",
      "  File \"C:\\Users\\韦亚琦\\AppData\\Roaming\\Python\\Python38\\site-packages\\stack_data\\utils.py\", line 144, in cached_property_wrapper\n",
      "    value = obj.__dict__[self.func.__name__] = self.func(obj)\n",
      "  File \"C:\\Users\\韦亚琦\\AppData\\Roaming\\Python\\Python38\\site-packages\\stack_data\\core.py\", line 681, in included_pieces\n",
      "    pos = scope_pieces.index(self.executing_piece)\n",
      "  File \"C:\\Users\\韦亚琦\\AppData\\Roaming\\Python\\Python38\\site-packages\\stack_data\\utils.py\", line 144, in cached_property_wrapper\n",
      "    value = obj.__dict__[self.func.__name__] = self.func(obj)\n",
      "  File \"C:\\Users\\韦亚琦\\AppData\\Roaming\\Python\\Python38\\site-packages\\stack_data\\core.py\", line 660, in executing_piece\n",
      "    return only(\n",
      "  File \"C:\\Users\\韦亚琦\\AppData\\Roaming\\Python\\Python38\\site-packages\\executing\\executing.py\", line 190, in only\n",
      "    raise NotOneValueFound('Expected one value, found 0')\n",
      "executing.executing.NotOneValueFound: Expected one value, found 0\n"
     ]
    }
   ],
   "source": [
    "mytools.两个数值变量的统计分析(数据表,'16、AI绘画提供了更多创意,促进了艺术领域的繁荣','总分')"
   ]
  },
  {
   "cell_type": "code",
   "execution_count": 9,
   "metadata": {},
   "outputs": [
    {
     "ename": "AttributeError",
     "evalue": "module 'mytools' has no attribute '读取spss数据文件'",
     "output_type": "error",
     "traceback": [
      "\u001b[1;31m---------------------------------------------------------------------------\u001b[0m",
      "\u001b[1;31mAttributeError\u001b[0m                            Traceback (most recent call last)",
      "\u001b[1;32mc:\\Users\\韦亚琦\\Desktop\\3289834600\\15-双变量统计分析.ipynb 单元格 10\u001b[0m line \u001b[0;36m1\n\u001b[1;32m----> <a href='vscode-notebook-cell:/c%3A/Users/%E9%9F%A6%E4%BA%9A%E7%90%A6/Desktop/3289834600/15-%E5%8F%8C%E5%8F%98%E9%87%8F%E7%BB%9F%E8%AE%A1%E5%88%86%E6%9E%90.ipynb#X24sZmlsZQ%3D%3D?line=0'>1</a>\u001b[0m 英语成绩表 \u001b[39m=\u001b[39m mytools\u001b[39m.\u001b[39;49m读取spss数据文件(\u001b[39mR\u001b[39m\u001b[39m'\u001b[39m\u001b[39mdata\u001b[39m\u001b[39m\\\u001b[39m\u001b[39mscore.sav\u001b[39m\u001b[39m'\u001b[39m)\n\u001b[0;32m      <a href='vscode-notebook-cell:/c%3A/Users/%E9%9F%A6%E4%BA%9A%E7%90%A6/Desktop/3289834600/15-%E5%8F%8C%E5%8F%98%E9%87%8F%E7%BB%9F%E8%AE%A1%E5%88%86%E6%9E%90.ipynb#X24sZmlsZQ%3D%3D?line=1'>2</a>\u001b[0m mytools\u001b[39m.\u001b[39m类别变量与数值变量统计分析(英语成绩表,\u001b[39m'\u001b[39m\u001b[39m职业\u001b[39m\u001b[39m'\u001b[39m,\u001b[39m'\u001b[39m\u001b[39m英语成绩\u001b[39m\u001b[39m'\u001b[39m)\n",
      "\u001b[1;31mAttributeError\u001b[0m: module 'mytools' has no attribute '读取spss数据文件'"
     ]
    }
   ],
   "source": [
    "英语成绩表 = mytools.读取spss数据文件(R'data\\score.sav')\n",
    "mytools.类别变量与数值变量统计分析(英语成绩表,'职业','英语成绩')"
   ]
  }
 ],
 "metadata": {
  "kernelspec": {
   "display_name": "Python 3",
   "language": "python",
   "name": "python3"
  },
  "language_info": {
   "codemirror_mode": {
    "name": "ipython",
    "version": 3
   },
   "file_extension": ".py",
   "mimetype": "text/x-python",
   "name": "python",
   "nbconvert_exporter": "python",
   "pygments_lexer": "ipython3",
   "version": "3.8.10"
  }
 },
 "nbformat": 4,
 "nbformat_minor": 2
}

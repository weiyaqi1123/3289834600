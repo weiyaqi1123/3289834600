{
 "cells": [
  {
   "cell_type": "code",
   "execution_count": 6,
   "metadata": {},
   "outputs": [],
   "source": [
    "import pandas as pd\n",
    "import matplotlib.pyplot as plt"
   ]
  },
  {
   "cell_type": "code",
   "execution_count": 7,
   "metadata": {},
   "outputs": [],
   "source": [
    "df = pd.read_spss(R'data\\identity.sav')"
   ]
  },
  {
   "cell_type": "code",
   "execution_count": 8,
   "metadata": {},
   "outputs": [
    {
     "data": {
      "text/plain": [
       "政治面貌\n",
       "团员    0.734104\n",
       "党员    0.130636\n",
       "群众    0.110983\n",
       "其他    0.024277\n",
       "Name: proportion, dtype: float64"
      ]
     },
     "execution_count": 8,
     "metadata": {},
     "output_type": "execute_result"
    }
   ],
   "source": [
    "#无序类别变量的描述统计\n",
    "df['政治面貌'].value_counts(normalize=True)"
   ]
  },
  {
   "cell_type": "code",
   "execution_count": 9,
   "metadata": {},
   "outputs": [
    {
     "name": "stderr",
     "output_type": "stream",
     "text": [
      "C:\\Users\\韦亚琦\\AppData\\Roaming\\Python\\Python38\\site-packages\\IPython\\core\\pylabtools.py:152: UserWarning: Glyph 22242 (\\N{CJK UNIFIED IDEOGRAPH-56E2}) missing from current font.\n",
      "  fig.canvas.print_figure(bytes_io, **kw)\n",
      "C:\\Users\\韦亚琦\\AppData\\Roaming\\Python\\Python38\\site-packages\\IPython\\core\\pylabtools.py:152: UserWarning: Glyph 21592 (\\N{CJK UNIFIED IDEOGRAPH-5458}) missing from current font.\n",
      "  fig.canvas.print_figure(bytes_io, **kw)\n",
      "C:\\Users\\韦亚琦\\AppData\\Roaming\\Python\\Python38\\site-packages\\IPython\\core\\pylabtools.py:152: UserWarning: Glyph 20826 (\\N{CJK UNIFIED IDEOGRAPH-515A}) missing from current font.\n",
      "  fig.canvas.print_figure(bytes_io, **kw)\n",
      "C:\\Users\\韦亚琦\\AppData\\Roaming\\Python\\Python38\\site-packages\\IPython\\core\\pylabtools.py:152: UserWarning: Glyph 32676 (\\N{CJK UNIFIED IDEOGRAPH-7FA4}) missing from current font.\n",
      "  fig.canvas.print_figure(bytes_io, **kw)\n",
      "C:\\Users\\韦亚琦\\AppData\\Roaming\\Python\\Python38\\site-packages\\IPython\\core\\pylabtools.py:152: UserWarning: Glyph 20247 (\\N{CJK UNIFIED IDEOGRAPH-4F17}) missing from current font.\n",
      "  fig.canvas.print_figure(bytes_io, **kw)\n",
      "C:\\Users\\韦亚琦\\AppData\\Roaming\\Python\\Python38\\site-packages\\IPython\\core\\pylabtools.py:152: UserWarning: Glyph 20854 (\\N{CJK UNIFIED IDEOGRAPH-5176}) missing from current font.\n",
      "  fig.canvas.print_figure(bytes_io, **kw)\n",
      "C:\\Users\\韦亚琦\\AppData\\Roaming\\Python\\Python38\\site-packages\\IPython\\core\\pylabtools.py:152: UserWarning: Glyph 20182 (\\N{CJK UNIFIED IDEOGRAPH-4ED6}) missing from current font.\n",
      "  fig.canvas.print_figure(bytes_io, **kw)\n",
      "C:\\Users\\韦亚琦\\AppData\\Roaming\\Python\\Python38\\site-packages\\IPython\\core\\pylabtools.py:152: UserWarning: Glyph 25919 (\\N{CJK UNIFIED IDEOGRAPH-653F}) missing from current font.\n",
      "  fig.canvas.print_figure(bytes_io, **kw)\n",
      "C:\\Users\\韦亚琦\\AppData\\Roaming\\Python\\Python38\\site-packages\\IPython\\core\\pylabtools.py:152: UserWarning: Glyph 27835 (\\N{CJK UNIFIED IDEOGRAPH-6CBB}) missing from current font.\n",
      "  fig.canvas.print_figure(bytes_io, **kw)\n",
      "C:\\Users\\韦亚琦\\AppData\\Roaming\\Python\\Python38\\site-packages\\IPython\\core\\pylabtools.py:152: UserWarning: Glyph 38754 (\\N{CJK UNIFIED IDEOGRAPH-9762}) missing from current font.\n",
      "  fig.canvas.print_figure(bytes_io, **kw)\n",
      "C:\\Users\\韦亚琦\\AppData\\Roaming\\Python\\Python38\\site-packages\\IPython\\core\\pylabtools.py:152: UserWarning: Glyph 35980 (\\N{CJK UNIFIED IDEOGRAPH-8C8C}) missing from current font.\n",
      "  fig.canvas.print_figure(bytes_io, **kw)\n"
     ]
    },
    {
     "data": {
      "image/png": "[encoded data removed]",
      "text/plain": [
       "<Figure size 640x480 with 1 Axes>"
      ]
     },
     "metadata": {},
     "output_type": "display_data"
    }
   ],
   "source": [
    "#导入包，打开文件等代码省略\n",
    "# 生成x、y轴方向的坐标\n",
    "x = df['政治面貌'].value_counts().index\n",
    "y = df['政治面貌'].value_counts(normalize=True).values * 100\n",
    "# 创建图\n",
    "fig, ax = plt.subplots()\n",
    "# 绘制柱状图\n",
    "rects1 = ax.bar(x, y)\n",
    "# 设置x轴变量名称\n",
    "ax.set_xlabel('政治面貌')\n",
    "# 设置y轴最大值\n",
    "ax.set_ylim(ymax=100)\n",
    "# 在柱上方显示对应的值\n",
    "ax.bar_label(rects1, fmt=\"%.1f\", padding=3)\n",
    "# 显示图形\n",
    "plt.show()"
   ]
  }
 ],
 "metadata": {
  "kernelspec": {
   "display_name": "Python 3",
   "language": "python",
   "name": "python3"
  },
  "language_info": {
   "codemirror_mode": {
    "name": "ipython",
    "version": 3
   },
   "file_extension": ".py",
   "mimetype": "text/x-python",
   "name": "python",
   "nbconvert_exporter": "python",
   "pygments_lexer": "ipython3",
   "version": "3.8.10"
  }
 },
 "nbformat": 4,
 "nbformat_minor": 2
}
